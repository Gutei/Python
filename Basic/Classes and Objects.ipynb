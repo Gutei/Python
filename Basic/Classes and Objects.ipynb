{
 "cells": [
  {
   "cell_type": "markdown",
   "metadata": {},
   "source": [
    "# Class without constructor"
   ]
  },
  {
   "cell_type": "code",
   "execution_count": 1,
   "metadata": {},
   "outputs": [],
   "source": [
    "class Cars:\n",
    "    def introduce_car(self):\n",
    "        print(\"Car Brand : \" + self.brand)"
   ]
  },
  {
   "cell_type": "code",
   "execution_count": 2,
   "metadata": {},
   "outputs": [],
   "source": [
    "# create new object from cars\n",
    "car1 = Cars()\n",
    "car1.brand = \"Toyota\"\n",
    "car1.color = \"Blue\"\n",
    "car1.value =  200\n",
    "\n",
    "car2 = Cars()\n",
    "car2.brand = \"Hyundai\"\n",
    "car2.color = \"Black\"\n",
    "car2.value = 120"
   ]
  },
  {
   "cell_type": "code",
   "execution_count": 3,
   "metadata": {},
   "outputs": [
    {
     "name": "stdout",
     "output_type": "stream",
     "text": [
      "Car Brand : Toyota\n",
      "Car Brand : Hyundai\n"
     ]
    }
   ],
   "source": [
    "car1.introduce_car()\n",
    "car2.introduce_car()"
   ]
  },
  {
   "cell_type": "markdown",
   "metadata": {},
   "source": [
    "# Class with constructor"
   ]
  },
  {
   "cell_type": "code",
   "execution_count": 17,
   "metadata": {},
   "outputs": [],
   "source": [
    "class Pets:\n",
    "    #constructor\n",
    "    def __init__(self, name, style):\n",
    "        self.name = name\n",
    "        self.style = style\n",
    "    \n",
    "    def introduce_pet(self):\n",
    "        print(\"My Pet is = \" + self.name)"
   ]
  },
  {
   "cell_type": "code",
   "execution_count": 18,
   "metadata": {},
   "outputs": [],
   "source": [
    "pet1 = Pets(\"Chicken\", \"Calm\")"
   ]
  },
  {
   "cell_type": "code",
   "execution_count": 19,
   "metadata": {},
   "outputs": [
    {
     "name": "stdout",
     "output_type": "stream",
     "text": [
      "My Pet is = Chicken\n"
     ]
    }
   ],
   "source": [
    "pet1.introduce_pet()"
   ]
  },
  {
   "cell_type": "code",
   "execution_count": null,
   "metadata": {},
   "outputs": [],
   "source": []
  }
 ],
 "metadata": {
  "kernelspec": {
   "display_name": "Python 3",
   "language": "python",
   "name": "python3"
  },
  "language_info": {
   "codemirror_mode": {
    "name": "ipython",
    "version": 3
   },
   "file_extension": ".py",
   "mimetype": "text/x-python",
   "name": "python",
   "nbconvert_exporter": "python",
   "pygments_lexer": "ipython3",
   "version": "3.7.3"
  }
 },
 "nbformat": 4,
 "nbformat_minor": 2
}
