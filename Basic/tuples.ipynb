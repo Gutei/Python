{
 "cells": [
  {
   "cell_type": "code",
   "execution_count": 1,
   "metadata": {},
   "outputs": [
    {
     "name": "stdout",
     "output_type": "stream",
     "text": [
      "The dimensions are 21x11x34\n"
     ]
    }
   ],
   "source": [
    "dimensions=[21,11,34]\n",
    "lenght, width, height = dimensions\n",
    "print (\"The dimensions are {}x{}x{}\".format(lenght,width,height))"
   ]
  },
  {
   "cell_type": "code",
   "execution_count": 2,
   "metadata": {},
   "outputs": [
    {
     "name": "stdout",
     "output_type": "stream",
     "text": [
      "Latitude: 13.4125\n",
      "Longitude: 103.866667\n"
     ]
    }
   ],
   "source": [
    "location = (13.4125, 103.866667)\n",
    "print(\"Latitude:\", location[0])\n",
    "print(\"Longitude:\", location[1])"
   ]
  },
  {
   "cell_type": "code",
   "execution_count": 3,
   "metadata": {},
   "outputs": [
    {
     "name": "stdout",
     "output_type": "stream",
     "text": [
      "The dimensions are 21x11x34\n"
     ]
    }
   ],
   "source": [
    "lenght, width, height = 21,11,34\n",
    "print (\"The dimensions are {}x{}x{}\".format(lenght,width,height))"
   ]
  },
  {
   "cell_type": "code",
   "execution_count": null,
   "metadata": {},
   "outputs": [],
   "source": []
  }
 ],
 "metadata": {
  "kernelspec": {
   "display_name": "Python 3",
   "language": "python",
   "name": "python3"
  },
  "language_info": {
   "codemirror_mode": {
    "name": "ipython",
    "version": 3
   },
   "file_extension": ".py",
   "mimetype": "text/x-python",
   "name": "python",
   "nbconvert_exporter": "python",
   "pygments_lexer": "ipython3",
   "version": "3.7.3"
  }
 },
 "nbformat": 4,
 "nbformat_minor": 2
}
