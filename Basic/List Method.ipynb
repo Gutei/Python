{
 "cells": [
  {
   "cell_type": "code",
   "execution_count": 1,
   "metadata": {},
   "outputs": [
    {
     "name": "stdout",
     "output_type": "stream",
     "text": [
      "jim\n",
      "tim\n"
     ]
    }
   ],
   "source": [
    "name='tim'\n",
    "student=name\n",
    "name='jim'\n",
    "print(name)\n",
    "print(student)"
   ]
  },
  {
   "cell_type": "code",
   "execution_count": 4,
   "metadata": {},
   "outputs": [
    {
     "name": "stdout",
     "output_type": "stream",
     "text": [
      "['a', 'b', 'c', 'a', 'b', 'c', 'a']\n",
      "['a', 'b', 'c', 'a', 'b', 'c', 'a']\n",
      "['a', 'b', 'c', 'd', 'b', 'c', 'a']\n",
      "['a', 'b', 'c', 'd', 'b', 'c', 'a']\n"
     ]
    }
   ],
   "source": [
    "score=[\"a\",\"b\",\"c\",\"a\",\"b\",\"c\",\"a\"]\n",
    "grade=score\n",
    "print(score)\n",
    "print(grade)\n",
    "score[3]=\"d\"\n",
    "print(score)\n",
    "print(grade)"
   ]
  },
  {
   "cell_type": "code",
   "execution_count": 7,
   "metadata": {},
   "outputs": [
    {
     "name": "stdout",
     "output_type": "stream",
     "text": [
      "shut\n",
      "the\n",
      "fuck\n",
      "to\n",
      "you\n"
     ]
    }
   ],
   "source": [
    "im=\"\\n\".join([\"shut\",\"the\",\"fuck\",\"to\",\"you\"])\n",
    "print(im)"
   ]
  },
  {
   "cell_type": "code",
   "execution_count": 9,
   "metadata": {},
   "outputs": [
    {
     "name": "stdout",
     "output_type": "stream",
     "text": [
      "big-dick-shit\n"
     ]
    }
   ],
   "source": [
    "me=[\"big\",\"dick\",\"shit\"]\n",
    "print(\"-\".join(me))"
   ]
  },
  {
   "cell_type": "code",
   "execution_count": 11,
   "metadata": {},
   "outputs": [
    {
     "name": "stdout",
     "output_type": "stream",
     "text": [
      "['tit', 'ass', 'pussy', 'milf']\n"
     ]
    }
   ],
   "source": [
    "girl=[\"tit\",\"ass\",\"pussy\"]\n",
    "girl.append(\"milf\")\n",
    "print(girl)"
   ]
  },
  {
   "cell_type": "code",
   "execution_count": null,
   "metadata": {},
   "outputs": [],
   "source": []
  }
 ],
 "metadata": {
  "kernelspec": {
   "display_name": "Python 3",
   "language": "python",
   "name": "python3"
  },
  "language_info": {
   "codemirror_mode": {
    "name": "ipython",
    "version": 3
   },
   "file_extension": ".py",
   "mimetype": "text/x-python",
   "name": "python",
   "nbconvert_exporter": "python",
   "pygments_lexer": "ipython3",
   "version": "3.6.5"
  }
 },
 "nbformat": 4,
 "nbformat_minor": 2
}
