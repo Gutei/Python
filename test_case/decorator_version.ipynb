{
 "cells": [
  {
   "cell_type": "code",
   "execution_count": 1,
   "metadata": {},
   "outputs": [
    {
     "name": "stdout",
     "output_type": "stream",
     "text": [
      "Hitung Biaya Parkir...\n"
     ]
    }
   ],
   "source": [
    "def Parkir(func):\n",
    "    print(\"Hitung Biaya Parkir...\")\n",
    "    def Biaya (*args,**kwargs):\n",
    "        masuk = float(input(\"Jam masuk Parkir = \"))\n",
    "        keluar = float(input(\"Jam keluar Parkir = \"))\n",
    "        if keluar<=masuk:\n",
    "            selisih = (keluar+24)-masuk\n",
    "        else:\n",
    "            selisih = keluar - masuk\n",
    "        if selisih%int(selisih)!=0:\n",
    "            selisih=int(selisih)+1\n",
    "        ret_func = func(selisih)\n",
    "        return ret_func\n",
    "    return Biaya\n",
    "\n",
    "@Parkir\n",
    "def hitung(selisih):\n",
    "    print(f'Parkir Selama = ',selisih)\n",
    "    if selisih <= 2:\n",
    "        bayar = 2000\n",
    "    else:\n",
    "        selisih-=2\n",
    "        bayar = ((selisih*500)+2000)\n",
    "    return print(f\"Bayar = Rp. \",bayar)"
   ]
  },
  {
   "cell_type": "code",
   "execution_count": 3,
   "metadata": {},
   "outputs": [
    {
     "name": "stdout",
     "output_type": "stream",
     "text": [
      "Jam masuk Parkir = 23\n",
      "Jam keluar Parkir = 04.10\n",
      "Parkir Selama =  6\n",
      "Bayar = Rp.  4000\n"
     ]
    }
   ],
   "source": [
    "hitung()"
   ]
  },
  {
   "cell_type": "code",
   "execution_count": null,
   "metadata": {},
   "outputs": [],
   "source": []
  }
 ],
 "metadata": {
  "kernelspec": {
   "display_name": "Python 3",
   "language": "python",
   "name": "python3"
  },
  "language_info": {
   "codemirror_mode": {
    "name": "ipython",
    "version": 3
   },
   "file_extension": ".py",
   "mimetype": "text/x-python",
   "name": "python",
   "nbconvert_exporter": "python",
   "pygments_lexer": "ipython3",
   "version": "3.7.3"
  }
 },
 "nbformat": 4,
 "nbformat_minor": 2
}
