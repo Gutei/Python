{
 "cells": [
  {
   "cell_type": "markdown",
   "metadata": {},
   "source": [
    "# Program biaya parkir, belum perhitungan untuk lebig dari 24 jam"
   ]
  },
  {
   "cell_type": "markdown",
   "metadata": {},
   "source": [
    "# Deklarasi dan cari selisih\n",
    "# jika masuk jam 06.00 maka input 06.00\n",
    "# jika masuk jam 06.30 maka input 06.30"
   ]
  },
  {
   "cell_type": "code",
   "execution_count": null,
   "metadata": {},
   "outputs": [],
   "source": [
    "masuk = float(input(\"Jam masuk Parkir = \"))\n",
    "keluar = float(input(\"Jam masuk Parkir = \"))"
   ]
  },
  {
   "cell_type": "markdown",
   "metadata": {},
   "source": [
    "# Hitung Selisih"
   ]
  },
  {
   "cell_type": "code",
   "execution_count": null,
   "metadata": {},
   "outputs": [],
   "source": [
    "if keluar<=masuk:\n",
    "    selisih = (keluar+24)-masuk\n",
    "else:\n",
    "    selisih = keluar - masuk\n",
    "selisih"
   ]
  },
  {
   "cell_type": "markdown",
   "metadata": {},
   "source": [
    "# Bulatkan Jam parkir ke atas"
   ]
  },
  {
   "cell_type": "code",
   "execution_count": null,
   "metadata": {},
   "outputs": [],
   "source": [
    "if selisih%int(selisih)!=0:\n",
    "    selisih=int(selisih)+1\n",
    "selisih"
   ]
  },
  {
   "cell_type": "markdown",
   "metadata": {},
   "source": [
    "# Cek kondisi pertama udah ada 2 jam atau belum"
   ]
  },
  {
   "cell_type": "code",
   "execution_count": null,
   "metadata": {},
   "outputs": [],
   "source": [
    "if selisih <= 2:\n",
    "    print(\"Bayar = Rp.2000,00\")"
   ]
  },
  {
   "cell_type": "markdown",
   "metadata": {},
   "source": [
    "# Kondisi lebih dari 2 jam"
   ]
  },
  {
   "cell_type": "code",
   "execution_count": null,
   "metadata": {},
   "outputs": [],
   "source": [
    "selisih-=2\n",
    "selisih"
   ]
  },
  {
   "cell_type": "markdown",
   "metadata": {},
   "source": [
    "# Hitung Biaya"
   ]
  },
  {
   "cell_type": "code",
   "execution_count": null,
   "metadata": {},
   "outputs": [],
   "source": [
    "print(f\"Bayar = Rp. \",((selisih*500)+2000))"
   ]
  },
  {
   "cell_type": "code",
   "execution_count": 9,
   "metadata": {},
   "outputs": [
    {
     "name": "stdout",
     "output_type": "stream",
     "text": [
      "Hitung Biaya Parkir...\n"
     ]
    }
   ],
   "source": [
    "def Parkir(func):\n",
    "    print(\"Hitung Biaya Parkir...\")\n",
    "    def Biaya (*args,**kwargs):\n",
    "        masuk = float(input(\"Jam masuk Parkir = \"))\n",
    "        keluar = float(input(\"Jam keluar Parkir = \"))\n",
    "        if keluar<=masuk:\n",
    "            selisih = (keluar+24)-masuk\n",
    "        else:\n",
    "            selisih = keluar - masuk\n",
    "        if selisih%int(selisih)!=0:\n",
    "            selisih=int(selisih)+1\n",
    "        ret_func = func(selisih)\n",
    "        return ret_func\n",
    "    return Biaya\n",
    "\n",
    "@Parkir\n",
    "def hitung(selisih):\n",
    "    print(f'Parkir Selama = ',selisih)\n",
    "    if selisih <= 2:\n",
    "        bayar = 2000\n",
    "    else:\n",
    "        selisih-=2\n",
    "        bayar = ((selisih*500)+2000)\n",
    "    return print(f\"Bayar = Rp. \",bayar)"
   ]
  },
  {
   "cell_type": "code",
   "execution_count": 10,
   "metadata": {},
   "outputs": [
    {
     "name": "stdout",
     "output_type": "stream",
     "text": [
      "Jam masuk Parkir = 10.00\n",
      "Jam keluar Parkir = 15.00\n",
      "Parkir Selama =  5.0\n",
      "Bayar = Rp.  3500.0\n"
     ]
    }
   ],
   "source": [
    "hitung()"
   ]
  },
  {
   "cell_type": "code",
   "execution_count": null,
   "metadata": {},
   "outputs": [],
   "source": []
  }
 ],
 "metadata": {
  "kernelspec": {
   "display_name": "Python 3",
   "language": "python",
   "name": "python3"
  },
  "language_info": {
   "codemirror_mode": {
    "name": "ipython",
    "version": 3
   },
   "file_extension": ".py",
   "mimetype": "text/x-python",
   "name": "python",
   "nbconvert_exporter": "python",
   "pygments_lexer": "ipython3",
   "version": "3.7.3"
  }
 },
 "nbformat": 4,
 "nbformat_minor": 2
}
